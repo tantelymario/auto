{
 "cells": [
  {
   "cell_type": "code",
   "execution_count": 3,
   "id": "ce796f1f-138c-4636-9f50-4131566850c4",
   "metadata": {
    "editable": true,
    "slideshow": {
     "slide_type": ""
    },
    "tags": []
   },
   "outputs": [
    {
     "name": "stdout",
     "output_type": "stream",
     "text": [
      "\u001b[33m80\u001b[39m\n"
     ]
    }
   ],
   "source": [
    "let a:number = 35\n",
    "let b:number = 45\n",
    "console.log(a+b);\n",
    "import {Robot}from \"./modules/scrap-m\"\n"
   ]
  },
  {
   "cell_type": "code",
   "execution_count": null,
   "id": "aa7209f5-84c6-4c7b-b3a9-54cec7dd802a",
   "metadata": {},
   "outputs": [],
   "source": []
  }
 ],
 "metadata": {
  "kernelspec": {
   "display_name": "TypeScript",
   "language": "typescript",
   "name": "tslab"
  },
  "language_info": {
   "codemirror_mode": {
    "mode": "typescript",
    "name": "javascript",
    "typescript": true
   },
   "file_extension": ".ts",
   "mimetype": "text/typescript",
   "name": "typescript",
   "version": "3.7.2"
  }
 },
 "nbformat": 4,
 "nbformat_minor": 5
}
