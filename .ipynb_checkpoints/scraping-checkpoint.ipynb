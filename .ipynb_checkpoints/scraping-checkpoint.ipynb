{
 "cells": [
  {
   "cell_type": "markdown",
   "id": "5aae2e1e-ab6e-4c86-aab0-bd0f6e5545c3",
   "metadata": {
    "tags": []
   },
   "source": [
    "# Start browser code"
   ]
  },
  {
   "cell_type": "code",
   "execution_count": 18,
   "id": "96e60115-f2b6-44ed-8586-071e4f05c7c9",
   "metadata": {
    "tags": []
   },
   "outputs": [
    {
     "name": "stdout",
     "output_type": "stream",
     "text": [
      "Promise { \u001b[36m<pending>\u001b[39m }\n",
      "Browser launched successfully !\n"
     ]
    }
   ],
   "source": [
    "import { Browser } from \"./modules/scrap-m\";\n",
    "const browser = new Browser();\n",
    "\n",
    "(async () =>{\n",
    "    await browser.launch();\n",
    "})();"
   ]
  },
  {
   "cell_type": "markdown",
   "id": "3fd5d28f-bb51-478d-b4ae-7d05a312332c",
   "metadata": {},
   "source": [
    "# Recherche google"
   ]
  },
  {
   "cell_type": "code",
   "execution_count": 19,
   "id": "6cca06d8-5f08-4807-a0be-cff5acfb61fd",
   "metadata": {
    "tags": []
   },
   "outputs": [
    {
     "name": "stdout",
     "output_type": "stream",
     "text": [
      "Robot created\n",
      "Promise { \u001b[36m<pending>\u001b[39m }\n",
      "Success loading page https://www.google.com/\n",
      "Ici\n",
      "Fin\n"
     ]
    }
   ],
   "source": [
    "import { Robot } from \"./modules/scrap-m\";\n",
    "\n",
    "let   page  = browser.get_current_page()\n",
    "\n",
    "const robot = new Robot();\n",
    "(async () =>{\n",
    "    robot.set_page(page);\n",
    "    await robot.load_page(\"https://www.google.com/\")\n",
    "    await robot.search(\"Porn pics\",\"textarea#APjFqb\")\n",
    "    await robot.click('#rso > div:nth-child(1) > div > div > div > div > div > div > div.yuRUbf > a')\n",
    "})();"
   ]
  },
  {
   "cell_type": "code",
   "execution_count": null,
   "id": "5277f62a-97d3-404e-991d-2c769d70582a",
   "metadata": {},
   "outputs": [],
   "source": [
    "(async () => {\n",
    "    await robot.search(\"Lena paul\",'#search');\n",
    "    let card = await robot.get_list_attribute('#tiles > li > a','href');\n",
    "    for(let i = 0;i < card.length; i++){\n",
    "        await browser.new_page(card[i]);\n",
    "        let p  = browser.get_current_page()\n",
    "        robot.set_page(p);\n",
    "        let card_mini = await robot.get_list_attribute('#tiles > li > a > img','src');\n",
    "        for(let j=0; j< card_mini.length; j++){\n",
    "            let url_max = card_mini[j].replace('460/','1280/');\n",
    "            await robot.download(url_max,'data/');\n",
    "            await robot.sleep(3000);\n",
    "        }\n",
    "        browser.close_current_page();\n",
    "    }\n",
    "})();"
   ]
  }
 ],
 "metadata": {
  "kernelspec": {
   "display_name": "TypeScript",
   "language": "typescript",
   "name": "tslab"
  },
  "language_info": {
   "codemirror_mode": {
    "mode": "typescript",
    "name": "javascript",
    "typescript": true
   },
   "file_extension": ".ts",
   "mimetype": "text/typescript",
   "name": "typescript",
   "version": "3.7.2"
  }
 },
 "nbformat": 4,
 "nbformat_minor": 5
}
