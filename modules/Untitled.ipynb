{
 "cells": [
  {
   "cell_type": "code",
   "execution_count": 1,
   "id": "38db52f9-edce-46cd-ae16-f2d88a63428e",
   "metadata": {
    "tags": []
   },
   "outputs": [
    {
     "name": "stderr",
     "output_type": "stream",
     "text": [
      "1:24 - Cannot find module './modules/browser' or its corresponding type declarations.\n"
     ]
    }
   ],
   "source": [
    "import { Browser} from './modules/browser';\n",
    "\n",
    "const browser = new Browser();\n",
    "(async () => {\n",
    "    await browser.launch();\n",
    "})();"
   ]
  },
  {
   "cell_type": "code",
   "execution_count": null,
   "id": "823ed2c2-6720-4a12-8cb2-555a4482615a",
   "metadata": {},
   "outputs": [],
   "source": []
  },
  {
   "cell_type": "code",
   "execution_count": null,
   "id": "5724e96d-8d98-4c41-95a1-f806ccc59094",
   "metadata": {},
   "outputs": [],
   "source": []
  }
 ],
 "metadata": {
  "kernelspec": {
   "display_name": "TypeScript",
   "language": "typescript",
   "name": "tslab"
  },
  "language_info": {
   "codemirror_mode": {
    "mode": "typescript",
    "name": "javascript",
    "typescript": true
   },
   "file_extension": ".ts",
   "mimetype": "text/typescript",
   "name": "typescript",
   "version": "3.7.2"
  }
 },
 "nbformat": 4,
 "nbformat_minor": 5
}
