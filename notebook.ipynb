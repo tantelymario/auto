{
 "cells": [
  {
   "cell_type": "code",
   "execution_count": 4,
   "metadata": {},
   "outputs": [
    {
     "name": "stdout",
     "output_type": "stream",
     "text": [
      "Promise { <pending> }\n"
     ]
    },
    {
     "name": "stdout",
     "output_type": "stream",
     "text": [
      "[\n",
      "  '/full/4728770.jpg', '/full/6261243.jpg', '/full/4728548.jpg',\n",
      "  '/full/6261246.jpg', null,                null,\n",
      "  null,                null,                null,\n",
      "  null,                null,                null,\n",
      "  null,                null,                null,\n",
      "  null,                null,                null,\n",
      "  null,                null,                null,\n",
      "  null,                null,                null,\n",
      "  null,                null,                null,\n",
      "  null,                null,                null,\n",
      "  null,                null,                null,\n",
      "  null,                null,                null,\n",
      "  null,                null,                null,\n",
      "  null,                null,                null,\n",
      "  null,                null,                null,\n",
      "  null,                null,                null,\n",
      "  null,                null,                null\n",
      "]\n"
     ]
    }
   ],
   "source": [
    "\n",
    "(async () => {\n",
    "    let att = await robot.get_list_attribute('img[data-slug=\"karina-aespa\"]',\"src\");\n",
    "    console.log(att);\n",
    "})();"
   ]
  }
 ],
 "metadata": {
  "kernelspec": {
   "display_name": "TypeScript",
   "language": "typescript",
   "name": "tslab"
  },
  "language_info": {
   "codemirror_mode": {
    "mode": "typescript",
    "name": "javascript",
    "typescript": true
   },
   "file_extension": ".ts",
   "mimetype": "text/typescript",
   "name": "typescript",
   "version": "3.7.2"
  }
 },
 "nbformat": 4,
 "nbformat_minor": 2
}
