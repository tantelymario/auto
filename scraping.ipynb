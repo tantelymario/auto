{
 "cells": [
  {
   "cell_type": "markdown",
   "id": "5aae2e1e-ab6e-4c86-aab0-bd0f6e5545c3",
   "metadata": {
    "tags": []
   },
   "source": [
    "# Start browser"
   ]
  },
  {
   "cell_type": "code",
   "execution_count": 5,
   "id": "96e60115-f2b6-44ed-8586-071e4f05c7c9",
   "metadata": {
    "tags": []
   },
   "outputs": [
    {
     "name": "stdout",
     "output_type": "stream",
     "text": [
      "Promise { <pending> }\n"
     ]
    },
    {
     "name": "stdout",
     "output_type": "stream",
     "text": [
      "Browser launched successfully !\n"
     ]
    }
   ],
   "source": [
    "import { Browser } from \"./modules/browser\";\n",
    "const browser = new Browser();\n",
    "\n",
    "(async () =>{\n",
    "    await browser.launch();\n",
    "})();"
   ]
  },
  {
   "cell_type": "markdown",
   "id": "3fd5d28f-bb51-478d-b4ae-7d05a312332c",
   "metadata": {},
   "source": [
    "# Recherche google\n"
   ]
  },
  {
   "cell_type": "code",
   "execution_count": 6,
   "id": "6cca06d8-5f08-4807-a0be-cff5acfb61fd",
   "metadata": {
    "tags": []
   },
   "outputs": [
    {
     "name": "stdout",
     "output_type": "stream",
     "text": [
      "Robot created\n",
      "Promise { <pending> }\n"
     ]
    },
    {
     "name": "stdout",
     "output_type": "stream",
     "text": [
      "Success loading page https://proxyscrape.com/free-proxy-list\n",
      "Ici\n",
      "Fin\n",
      "[]\n"
     ]
    }
   ],
   "source": [
    "import { Bot } from \"./modules/bot\";\n",
    "\n",
    "const robot = new Bot();\n",
    "\n",
    "(async () =>{\n",
    "    let   page  = browser.get_current_page();\n",
    "    robot.set_page(page);\n",
    "\n",
    "    await robot.load_page(\"https://proxyscrape.com/free-proxy-list\");\n",
    "    const list_ip_proxy = await robot.get_list_content(\"#proxytable > tr > td:nth-child(1)\");\n",
    "    const list_port_proxy = await robot.get_list_content(\"#proxytable > tr > td:nth-child(2)\");\n",
    "    const list_protocol_proxy = await robot.get_list_content(\"#proxytable > tr > td:nth-child(3)\");\n",
    "    console.log(list_ip_proxy);\n",
    "})();"
   ]
  },
  {
   "cell_type": "code",
   "execution_count": 3,
   "id": "1010a793",
   "metadata": {},
   "outputs": [
    {
     "name": "stdout",
     "output_type": "stream",
     "text": [
      "Promise { <pending> }\n"
     ]
    },
    {
     "name": "stdout",
     "output_type": "stream",
     "text": [
      "Error on click Error: No element found for selector: #rso > div:nth-child(1) > div > div > div > div > div > div > div.yuRUbf > a\n"
     ]
    },
    {
     "name": "stderr",
     "output_type": "stream",
     "text": [
      "UnhandledPromiseRejection: -1\n"
     ]
    },
    {
     "name": "stderr",
     "output_type": "stream",
     "text": [
      "UnhandledPromiseRejection: -1\n"
     ]
    },
    {
     "name": "stderr",
     "output_type": "stream",
     "text": [
      "2:1 - 'from' expected.\n"
     ]
    },
    {
     "name": "stdout",
     "output_type": "stream",
     "text": [
      "Browser launched successfully !\n"
     ]
    }
   ],
   "source": [
    "import {Proxy}"
   ]
  }
 ],
 "metadata": {
  "kernelspec": {
   "display_name": "TypeScript",
   "language": "typescript",
   "name": "tslab"
  },
  "language_info": {
   "codemirror_mode": {
    "mode": "typescript",
    "name": "javascript",
    "typescript": true
   },
   "file_extension": ".ts",
   "mimetype": "text/typescript",
   "name": "typescript",
   "version": "3.7.2"
  }
 },
 "nbformat": 4,
 "nbformat_minor": 5
}
