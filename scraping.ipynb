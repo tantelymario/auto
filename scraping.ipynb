{
 "cells": [
  {
   "cell_type": "markdown",
   "id": "5aae2e1e-ab6e-4c86-aab0-bd0f6e5545c3",
   "metadata": {
    "tags": []
   },
   "source": [
    "# Start browser code"
   ]
  },
  {
   "cell_type": "code",
   "execution_count": 1,
   "id": "96e60115-f2b6-44ed-8586-071e4f05c7c9",
   "metadata": {
    "tags": []
   },
   "outputs": [
    {
     "name": "stdout",
     "output_type": "stream",
     "text": [
      "Promise { \u001b[36m<pending>\u001b[39m }\n",
      "Browser launched successfully !\n"
     ]
    }
   ],
   "source": [
    "import { Browser} from \"./modules/browser\";\n",
    "\n",
    "const browser = new Browser();\n",
    "\n",
    "(async () =>{\n",
    "    await browser.launch();\n",
    "})();"
   ]
  },
  {
   "cell_type": "markdown",
   "id": "3fd5d28f-bb51-478d-b4ae-7d05a312332c",
   "metadata": {
    "tags": []
   },
   "source": [
    "# Recherche google"
   ]
  },
  {
   "cell_type": "code",
   "execution_count": 4,
   "id": "6cca06d8-5f08-4807-a0be-cff5acfb61fd",
   "metadata": {
    "tags": []
   },
   "outputs": [
    {
     "name": "stdout",
     "output_type": "stream",
     "text": [
      "Robot created\n",
      "Promise { \u001b[36m<pending>\u001b[39m }\n",
      "Success loading page https://www.google.com/\n",
      "Ici\n",
      "Fin\n"
     ]
    }
   ],
   "source": [
    "import { Bot } from \"./modules/bot\";\n",
    "\n",
    "let   page  = browser.get_current_page()\n",
    "\n",
    "const robot = new Bot();\n",
    "(async () =>{\n",
    "    robot.set_page(page);\n",
    "    await robot.load_page(\"https://www.google.com/\")\n",
    "    await robot.search(\"Porn pics\",\"textarea#APjFqb\")\n",
    "    await robot.click('#rso > div:nth-child(1) > div > div > div > div > div > div > div.yuRUbf > a')\n",
    "})();"
   ]
  },
  {
   "cell_type": "code",
   "execution_count": null,
   "id": "5277f62a-97d3-404e-991d-2c769d70582a",
   "metadata": {},
   "outputs": [],
   "source": [
    "(async () => {\n",
    "    await robot.search(\"Lena paul\",'#search');\n",
    "    let card = await robot.get_list_attribute('#tiles > li > a','href');\n",
    "    for(let i = 0;i < card.length; i++){\n",
    "        await browser.new_page(card[i]);\n",
    "        let p  = browser.get_current_page()\n",
    "        robot.set_page(p);\n",
    "        let card_mini = await robot.get_list_attribute('#tiles > li > a > img','src');\n",
    "        for(let j=0; j< card_mini.length; j++){\n",
    "            let url_max = card_mini[j].replace('460/','1280/');\n",
    "            await robot.download(url_max,'data/');\n",
    "            await robot.sleep(3000);\n",
    "        }\n",
    "        browser.close_current_page();\n",
    "    }\n",
    "})();"
   ]
  },
  {
   "cell_type": "code",
   "execution_count": 2,
   "id": "280a1f96-a8ae-4491-bbfa-fee6f43ed2d0",
   "metadata": {
    "tags": []
   },
   "outputs": [
    {
     "name": "stdout",
     "output_type": "stream",
     "text": [
      "Robot created\n",
      "Promise { \u001b[36m<pending>\u001b[39m }\n",
      "Success loading page https://free-proxy-list.net/\n",
      "Ici\n",
      "Fin\n",
      "[\n",
      "  \u001b[32m'34.124.225.130'\u001b[39m, \u001b[32m'104.248.90.212'\u001b[39m,  \u001b[32m'113.161.131.43'\u001b[39m,  \u001b[32m'186.121.235.66'\u001b[39m,\n",
      "  \u001b[32m'202.5.16.44'\u001b[39m,    \u001b[32m'123.205.68.113'\u001b[39m,  \u001b[32m'103.141.142.153'\u001b[39m, \u001b[32m'129.153.157.63'\u001b[39m,\n",
      "  \u001b[32m'181.209.101.52'\u001b[39m, \u001b[32m'103.83.232.122'\u001b[39m,  \u001b[32m'162.223.94.163'\u001b[39m,  \u001b[32m'8.209.114.72'\u001b[39m,\n",
      "  \u001b[32m'62.204.197.206'\u001b[39m, \u001b[32m'8.219.97.248'\u001b[39m,    \u001b[32m'68.183.139.110'\u001b[39m,  \u001b[32m'103.36.25.4'\u001b[39m,\n",
      "  \u001b[32m'107.6.27.132'\u001b[39m,   \u001b[32m'159.203.61.169'\u001b[39m,  \u001b[32m'20.6.106.14'\u001b[39m,     \u001b[32m'167.71.5.83'\u001b[39m,\n",
      "  \u001b[32m'94.74.80.88'\u001b[39m,    \u001b[32m'134.209.29.120'\u001b[39m,  \u001b[32m'178.21.163.24'\u001b[39m,   \u001b[32m'154.209.253.83'\u001b[39m,\n",
      "  \u001b[32m'47.88.3.19'\u001b[39m,     \u001b[32m'75.89.101.62'\u001b[39m,    \u001b[32m'51.91.109.113'\u001b[39m,   \u001b[32m'51.15.242.202'\u001b[39m,\n",
      "  \u001b[32m'52.117.157.155'\u001b[39m, \u001b[32m'103.49.202.252'\u001b[39m,  \u001b[32m'202.40.177.69'\u001b[39m,   \u001b[32m'138.68.60.8'\u001b[39m,\n",
      "  \u001b[32m'135.181.53.229'\u001b[39m, \u001b[32m'190.92.208.146'\u001b[39m,  \u001b[32m'194.182.178.90'\u001b[39m,  \u001b[32m'117.54.114.103'\u001b[39m,\n",
      "  \u001b[32m'51.124.209.11'\u001b[39m,  \u001b[32m'117.54.114.100'\u001b[39m,  \u001b[32m'129.159.112.251'\u001b[39m, \u001b[32m'134.195.101.34'\u001b[39m,\n",
      "  \u001b[32m'158.160.56.149'\u001b[39m, \u001b[32m'160.72.82.101'\u001b[39m,   \u001b[32m'117.54.114.99'\u001b[39m,   \u001b[32m'136.243.55.199'\u001b[39m,\n",
      "  \u001b[32m'47.254.47.61'\u001b[39m,   \u001b[32m'220.226.202.146'\u001b[39m, \u001b[32m'34.88.86.0'\u001b[39m,      \u001b[32m'20.44.206.138'\u001b[39m,\n",
      "  \u001b[32m'198.199.86.11'\u001b[39m,  \u001b[32m'47.74.152.29'\u001b[39m,    \u001b[32m'103.127.1.130'\u001b[39m,   \u001b[32m'46.47.197.210'\u001b[39m,\n",
      "  \u001b[32m'139.59.1.14'\u001b[39m,    \u001b[32m'178.33.3.163'\u001b[39m,    \u001b[32m'43.154.150.99'\u001b[39m,   \u001b[32m'13.95.173.197'\u001b[39m,\n",
      "  \u001b[32m'107.1.93.215'\u001b[39m,   \u001b[32m'194.158.203.14'\u001b[39m,  \u001b[32m'50.173.140.150'\u001b[39m,  \u001b[32m'82.119.96.254'\u001b[39m,\n",
      "  \u001b[32m'85.8.68.2'\u001b[39m,      \u001b[32m'50.206.25.106'\u001b[39m,   \u001b[32m'50.169.37.50'\u001b[39m,    \u001b[32m'50.223.129.110'\u001b[39m,\n",
      "  \u001b[32m'107.1.93.217'\u001b[39m,   \u001b[32m'50.168.10.151'\u001b[39m,   \u001b[32m'107.1.93.223'\u001b[39m,    \u001b[32m'50.175.31.243'\u001b[39m,\n",
      "  \u001b[32m'213.143.113.82'\u001b[39m, \u001b[32m'50.223.129.107'\u001b[39m,  \u001b[32m'50.223.38.2'\u001b[39m,     \u001b[32m'50.200.12.86'\u001b[39m,\n",
      "  \u001b[32m'50.219.106.74'\u001b[39m,  \u001b[32m'50.223.129.104'\u001b[39m,  \u001b[32m'50.170.90.25'\u001b[39m,    \u001b[32m'50.239.72.18'\u001b[39m,\n",
      "  \u001b[32m'62.141.11.68'\u001b[39m,   \u001b[32m'50.219.106.86'\u001b[39m,   \u001b[32m'47.177.148.110'\u001b[39m,  \u001b[32m'50.223.129.109'\u001b[39m,\n",
      "  \u001b[32m'50.218.57.69'\u001b[39m,   \u001b[32m'50.168.49.109'\u001b[39m,   \u001b[32m'41.230.216.70'\u001b[39m,   \u001b[32m'189.204.137.226'\u001b[39m,\n",
      "  \u001b[32m'50.218.57.64'\u001b[39m,   \u001b[32m'50.221.203.217'\u001b[39m,  \u001b[32m'50.237.89.166'\u001b[39m,   \u001b[32m'50.204.219.230'\u001b[39m,\n",
      "  \u001b[32m'50.168.10.162'\u001b[39m,  \u001b[32m'50.218.57.67'\u001b[39m,    \u001b[32m'50.171.32.231'\u001b[39m,   \u001b[32m'50.227.121.39'\u001b[39m,\n",
      "  \u001b[32m'50.169.91.138'\u001b[39m,  \u001b[32m'50.171.32.224'\u001b[39m,   \u001b[32m'50.206.25.107'\u001b[39m,   \u001b[32m'190.58.248.86'\u001b[39m,\n",
      "  \u001b[32m'50.230.222.202'\u001b[39m, \u001b[32m'50.206.25.104'\u001b[39m,   \u001b[32m'32.223.6.94'\u001b[39m,     \u001b[32m'50.217.153.78'\u001b[39m,\n",
      "  ... 200 more items\n",
      "]\n",
      "[\n",
      "  \u001b[32m'8080'\u001b[39m, \u001b[32m'80'\u001b[39m,   \u001b[32m'80'\u001b[39m,   \u001b[32m'8080'\u001b[39m, \u001b[32m'80'\u001b[39m,   \u001b[32m'8193'\u001b[39m, \u001b[32m'41423'\u001b[39m,\n",
      "  \u001b[32m'3128'\u001b[39m, \u001b[32m'999'\u001b[39m,  \u001b[32m'80'\u001b[39m,   \u001b[32m'80'\u001b[39m,   \u001b[32m'3129'\u001b[39m, \u001b[32m'80'\u001b[39m,   \u001b[32m'80'\u001b[39m,\n",
      "  \u001b[32m'8888'\u001b[39m, \u001b[32m'80'\u001b[39m,   \u001b[32m'80'\u001b[39m,   \u001b[32m'3128'\u001b[39m, \u001b[32m'8080'\u001b[39m, \u001b[32m'8080'\u001b[39m, \u001b[32m'45554'\u001b[39m,\n",
      "  \u001b[32m'8080'\u001b[39m, \u001b[32m'80'\u001b[39m,   \u001b[32m'8443'\u001b[39m, \u001b[32m'8080'\u001b[39m, \u001b[32m'80'\u001b[39m,   \u001b[32m'8118'\u001b[39m, \u001b[32m'8888'\u001b[39m,\n",
      "  \u001b[32m'8002'\u001b[39m, \u001b[32m'80'\u001b[39m,   \u001b[32m'80'\u001b[39m,   \u001b[32m'8080'\u001b[39m, \u001b[32m'80'\u001b[39m,   \u001b[32m'7890'\u001b[39m, \u001b[32m'3128'\u001b[39m,\n",
      "  \u001b[32m'80'\u001b[39m,   \u001b[32m'80'\u001b[39m,   \u001b[32m'80'\u001b[39m,   \u001b[32m'3128'\u001b[39m, \u001b[32m'8080'\u001b[39m, \u001b[32m'8080'\u001b[39m, \u001b[32m'80'\u001b[39m,\n",
      "  \u001b[32m'80'\u001b[39m,   \u001b[32m'3128'\u001b[39m, \u001b[32m'3128'\u001b[39m, \u001b[32m'80'\u001b[39m,   \u001b[32m'8888'\u001b[39m, \u001b[32m'80'\u001b[39m,   \u001b[32m'3128'\u001b[39m,\n",
      "  \u001b[32m'8888'\u001b[39m, \u001b[32m'80'\u001b[39m,   \u001b[32m'3128'\u001b[39m, \u001b[32m'8080'\u001b[39m, \u001b[32m'8080'\u001b[39m, \u001b[32m'8080'\u001b[39m, \u001b[32m'80'\u001b[39m,\n",
      "  \u001b[32m'80'\u001b[39m,   \u001b[32m'80'\u001b[39m,   \u001b[32m'80'\u001b[39m,   \u001b[32m'80'\u001b[39m,   \u001b[32m'80'\u001b[39m,   \u001b[32m'80'\u001b[39m,   \u001b[32m'80'\u001b[39m,\n",
      "  \u001b[32m'80'\u001b[39m,   \u001b[32m'80'\u001b[39m,   \u001b[32m'80'\u001b[39m,   \u001b[32m'80'\u001b[39m,   \u001b[32m'80'\u001b[39m,   \u001b[32m'80'\u001b[39m,   \u001b[32m'80'\u001b[39m,\n",
      "  \u001b[32m'80'\u001b[39m,   \u001b[32m'80'\u001b[39m,   \u001b[32m'80'\u001b[39m,   \u001b[32m'80'\u001b[39m,   \u001b[32m'80'\u001b[39m,   \u001b[32m'80'\u001b[39m,   \u001b[32m'80'\u001b[39m,\n",
      "  \u001b[32m'80'\u001b[39m,   \u001b[32m'80'\u001b[39m,   \u001b[32m'80'\u001b[39m,   \u001b[32m'80'\u001b[39m,   \u001b[32m'80'\u001b[39m,   \u001b[32m'80'\u001b[39m,   \u001b[32m'80'\u001b[39m,\n",
      "  \u001b[32m'80'\u001b[39m,   \u001b[32m'80'\u001b[39m,   \u001b[32m'80'\u001b[39m,   \u001b[32m'80'\u001b[39m,   \u001b[32m'80'\u001b[39m,   \u001b[32m'80'\u001b[39m,   \u001b[32m'80'\u001b[39m,\n",
      "  \u001b[32m'80'\u001b[39m,   \u001b[32m'80'\u001b[39m,   \u001b[32m'80'\u001b[39m,   \u001b[32m'80'\u001b[39m,   \u001b[32m'80'\u001b[39m,   \u001b[32m'80'\u001b[39m,   \u001b[32m'80'\u001b[39m,\n",
      "  \u001b[32m'80'\u001b[39m,   \u001b[32m'80'\u001b[39m,\n",
      "  ... 200 more items\n",
      "]\n",
      "[\n",
      "  \u001b[32m'no'\u001b[39m, \u001b[32m'no'\u001b[39m, \u001b[32m'no'\u001b[39m,  \u001b[32m'no'\u001b[39m, \u001b[32m'no'\u001b[39m,  \u001b[32m'no'\u001b[39m, \u001b[32m'no'\u001b[39m,  \u001b[32m'yes'\u001b[39m, \u001b[32m'no'\u001b[39m,\n",
      "  \u001b[32m'no'\u001b[39m, \u001b[32m'no'\u001b[39m, \u001b[32m'no'\u001b[39m,  \u001b[32m'no'\u001b[39m, \u001b[32m'no'\u001b[39m,  \u001b[32m'no'\u001b[39m, \u001b[32m'no'\u001b[39m,  \u001b[32m'no'\u001b[39m,  \u001b[32m'no'\u001b[39m,\n",
      "  \u001b[32m'no'\u001b[39m, \u001b[32m'no'\u001b[39m, \u001b[32m'no'\u001b[39m,  \u001b[32m'no'\u001b[39m, \u001b[32m'no'\u001b[39m,  \u001b[32m'no'\u001b[39m, \u001b[32m'no'\u001b[39m,  \u001b[32m'no'\u001b[39m,  \u001b[32m'no'\u001b[39m,\n",
      "  \u001b[32m'no'\u001b[39m, \u001b[32m'no'\u001b[39m, \u001b[32m'no'\u001b[39m,  \u001b[32m'no'\u001b[39m, \u001b[32m'no'\u001b[39m,  \u001b[32m'no'\u001b[39m, \u001b[32m'yes'\u001b[39m, \u001b[32m'no'\u001b[39m,  \u001b[32m'no'\u001b[39m,\n",
      "  \u001b[32m'no'\u001b[39m, \u001b[32m'no'\u001b[39m, \u001b[32m'yes'\u001b[39m, \u001b[32m'no'\u001b[39m, \u001b[32m'yes'\u001b[39m, \u001b[32m'no'\u001b[39m, \u001b[32m'no'\u001b[39m,  \u001b[32m'no'\u001b[39m,  \u001b[32m'no'\u001b[39m,\n",
      "  \u001b[32m'no'\u001b[39m, \u001b[32m'no'\u001b[39m, \u001b[32m'yes'\u001b[39m, \u001b[32m'no'\u001b[39m, \u001b[32m'no'\u001b[39m,  \u001b[32m'no'\u001b[39m, \u001b[32m'no'\u001b[39m,  \u001b[32m'no'\u001b[39m,  \u001b[32m'yes'\u001b[39m,\n",
      "  \u001b[32m'no'\u001b[39m, \u001b[32m'no'\u001b[39m, \u001b[32m'no'\u001b[39m,  \u001b[32m'no'\u001b[39m, \u001b[32m'no'\u001b[39m,  \u001b[32m'no'\u001b[39m, \u001b[32m'no'\u001b[39m,  \u001b[32m'no'\u001b[39m,  \u001b[32m'no'\u001b[39m,\n",
      "  \u001b[32m'no'\u001b[39m, \u001b[32m'no'\u001b[39m, \u001b[32m'no'\u001b[39m,  \u001b[32m'no'\u001b[39m, \u001b[32m'no'\u001b[39m,  \u001b[32m'no'\u001b[39m, \u001b[32m'no'\u001b[39m,  \u001b[32m'no'\u001b[39m,  \u001b[32m'no'\u001b[39m,\n",
      "  \u001b[32m'no'\u001b[39m, \u001b[32m'no'\u001b[39m, \u001b[32m'no'\u001b[39m,  \u001b[32m'no'\u001b[39m, \u001b[32m'no'\u001b[39m,  \u001b[32m'no'\u001b[39m, \u001b[32m'no'\u001b[39m,  \u001b[32m'no'\u001b[39m,  \u001b[32m'no'\u001b[39m,\n",
      "  \u001b[32m'no'\u001b[39m, \u001b[32m'no'\u001b[39m, \u001b[32m'no'\u001b[39m,  \u001b[32m'no'\u001b[39m, \u001b[32m'no'\u001b[39m,  \u001b[32m'no'\u001b[39m, \u001b[32m'no'\u001b[39m,  \u001b[32m'no'\u001b[39m,  \u001b[32m'no'\u001b[39m,\n",
      "  \u001b[32m'no'\u001b[39m, \u001b[32m'no'\u001b[39m, \u001b[32m'no'\u001b[39m,  \u001b[32m'no'\u001b[39m, \u001b[32m'no'\u001b[39m,  \u001b[32m'no'\u001b[39m, \u001b[32m'no'\u001b[39m,  \u001b[32m'no'\u001b[39m,  \u001b[32m'no'\u001b[39m,\n",
      "  \u001b[32m'no'\u001b[39m,\n",
      "  ... 200 more items\n",
      "]\n"
     ]
    }
   ],
   "source": [
    "import { Bot } from \"./modules/bot\";\n",
    "\n",
    "const robot = new Bot();\n",
    "let ip:any[]\n",
    "let port:any[]\n",
    "let prot:any[]\n",
    "\n",
    "(async () => {\n",
    "    await browser.new_page()\n",
    "    let   page  = browser.get_current_page()\n",
    "\n",
    "    robot.set_page(page);\n",
    "    await robot.load_page(\"https://free-proxy-list.net/\")\n",
    "    ip = await robot.get_list_content('#list > div > div.table-responsive > div > table > tbody > tr > td:nth-child(1)')\n",
    "    port = await robot.get_list_content('#list > div > div.table-responsive > div > table > tbody > tr > td:nth-child(2)')\n",
    "    prot = await robot.get_list_content('#list > div > div.table-responsive > div > table > tbody > tr > td:nth-child(7)')\n",
    "    \n",
    "    console.log(ip)\n",
    "    console.log(port)\n",
    "    console.log(prot)\n",
    "})();"
   ]
  },
  {
   "cell_type": "code",
   "execution_count": 5,
   "id": "ffbed557-e8bb-40b3-b2c3-05e6bf7aa95a",
   "metadata": {
    "tags": []
   },
   "outputs": [
    {
     "name": "stdout",
     "output_type": "stream",
     "text": [
      "34.124.225.130:8080\n",
      "104.248.90.212:80\n",
      "113.161.131.43:80\n",
      "186.121.235.66:8080\n",
      "202.5.16.44:80\n",
      "123.205.68.113:8193\n",
      "103.141.142.153:41423\n",
      "129.153.157.63:3128\n",
      "181.209.101.52:999\n",
      "103.83.232.122:80\n",
      "162.223.94.163:80\n",
      "8.209.114.72:3129\n",
      "62.204.197.206:80\n",
      "8.219.97.248:80\n",
      "68.183.139.110:8888\n",
      "103.36.25.4:80\n",
      "107.6.27.132:80\n",
      "159.203.61.169:3128\n",
      "20.6.106.14:8080\n",
      "167.71.5.83:8080\n",
      "94.74.80.88:45554\n",
      "134.209.29.120:8080\n",
      "178.21.163.24:80\n",
      "154.209.253.83:8443\n",
      "47.88.3.19:8080\n",
      "75.89.101.62:80\n",
      "51.91.109.113:8118\n",
      "51.15.242.202:8888\n",
      "52.117.157.155:8002\n",
      "103.49.202.252:80\n",
      "202.40.177.69:80\n",
      "138.68.60.8:8080\n",
      "135.181.53.229:80\n",
      "190.92.208.146:7890\n",
      "194.182.178.90:3128\n",
      "117.54.114.103:80\n",
      "51.124.209.11:80\n",
      "117.54.114.100:80\n",
      "129.159.112.251:3128\n",
      "134.195.101.34:8080\n",
      "158.160.56.149:8080\n",
      "160.72.82.101:80\n",
      "117.54.114.99:80\n",
      "136.243.55.199:3128\n",
      "47.254.47.61:3128\n",
      "220.226.202.146:80\n",
      "34.88.86.0:8888\n",
      "20.44.206.138:80\n",
      "198.199.86.11:3128\n",
      "47.74.152.29:8888\n",
      "103.127.1.130:80\n",
      "46.47.197.210:3128\n"
     ]
    }
   ],
   "source": [
    "let  lim = ip.length\n",
    "for(let i = 0;i < lim;i++ ){\n",
    "    console.log(`${ip[i]}:${port[i]}`)\n",
    "    if (i > 50) break;\n",
    "}"
   ]
  },
  {
   "cell_type": "code",
   "execution_count": null,
   "id": "2009c5e8-ba5e-48d4-ab0a-2db0eeaa59d5",
   "metadata": {},
   "outputs": [],
   "source": []
  }
 ],
 "metadata": {
  "kernelspec": {
   "display_name": "TypeScript",
   "language": "typescript",
   "name": "tslab"
  },
  "language_info": {
   "codemirror_mode": {
    "mode": "typescript",
    "name": "javascript",
    "typescript": true
   },
   "file_extension": ".ts",
   "mimetype": "text/typescript",
   "name": "typescript",
   "version": "3.7.2"
  }
 },
 "nbformat": 4,
 "nbformat_minor": 5
}
